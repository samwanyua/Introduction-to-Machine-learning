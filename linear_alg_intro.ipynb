{
  "nbformat": 4,
  "nbformat_minor": 0,
  "metadata": {
    "colab": {
      "provenance": [],
      "authorship_tag": "ABX9TyMc0g39SrdGncKcubVnbl8j",
      "include_colab_link": true
    },
    "kernelspec": {
      "name": "python3",
      "display_name": "Python 3"
    },
    "language_info": {
      "name": "python"
    }
  },
  "cells": [
    {
      "cell_type": "markdown",
      "metadata": {
        "id": "view-in-github",
        "colab_type": "text"
      },
      "source": [
        "<a href=\"https://colab.research.google.com/github/samwanyua/Introduction-to-Machine-learning/blob/main/linear_alg_intro.ipynb\" target=\"_parent\"><img src=\"https://colab.research.google.com/assets/colab-badge.svg\" alt=\"Open In Colab\"/></a>"
      ]
    },
    {
      "cell_type": "code",
      "execution_count": null,
      "metadata": {
        "id": "wUKTJLZWobHG"
      },
      "outputs": [],
      "source": [
        "import numpy as np\n",
        "import matplotlib.pyplot as plt\n",
        "t = np.linspace(0, 40, 1000) # start, finish, n points"
      ]
    },
    {
      "cell_type": "markdown",
      "source": [
        "Distance travelled by the robber, d = 2.t\n"
      ],
      "metadata": {
        "id": "iPZr3ljSpAeS"
      }
    },
    {
      "cell_type": "code",
      "source": [
        "d_robber = 2.5 * t"
      ],
      "metadata": {
        "id": "svQRJv0_pJXS"
      },
      "execution_count": null,
      "outputs": []
    },
    {
      "cell_type": "markdown",
      "source": [
        "Distance travelled by sherrif: d = 3(t -5)"
      ],
      "metadata": {
        "id": "nG9j0_oRpQke"
      }
    },
    {
      "cell_type": "code",
      "source": [
        "d_sheriff = 3 * (t -5)"
      ],
      "metadata": {
        "id": "V_t-zvlTpZwt"
      },
      "execution_count": null,
      "outputs": []
    }
  ]
}